{
 "cells": [
  {
   "cell_type": "code",
   "execution_count": 29,
   "id": "62e4356a",
   "metadata": {},
   "outputs": [],
   "source": [
    "#importando bibliotecas\n",
    "import pyautogui\n",
    "import pyperclip\n",
    "import time"
   ]
  },
  {
   "cell_type": "code",
   "execution_count": 30,
   "id": "792b989c",
   "metadata": {},
   "outputs": [
    {
     "data": {
      "text/plain": [
       "'OK'"
      ]
     },
     "execution_count": 30,
     "metadata": {},
     "output_type": "execute_result"
    }
   ],
   "source": [
    "#Abrindo o youtube para pesquisar vídeo \n",
    "#1- Abrir o navegador \n",
    "pyautogui.PAUSE = 1\n",
    "pyautogui.press(\"winleft\")\n",
    "pyautogui.write(\"brave\")\n",
    "pyautogui.press(\"enter\")\n",
    "pyautogui.alert(\"Aperte OK e não mexa em nada!\")\n"
   ]
  },
  {
   "cell_type": "code",
   "execution_count": 31,
   "id": "d27e9607",
   "metadata": {},
   "outputs": [],
   "source": [
    "#Digitando para abrir o youtube\n",
    "link = \"https://youtube.com\"\n",
    "pyperclip.copy(link)\n",
    "pyautogui.hotkey(\"ctrl\", \"v\")\n",
    "pyautogui.press(\"enter\")\n",
    "time.sleep(10)"
   ]
  },
  {
   "cell_type": "code",
   "execution_count": 32,
   "id": "e1b3e409",
   "metadata": {},
   "outputs": [
    {
     "data": {
      "text/plain": [
       "'OK'"
      ]
     },
     "execution_count": 32,
     "metadata": {},
     "output_type": "execute_result"
    }
   ],
   "source": [
    "#Posicionando o cursor na barra de pesquisar do youtube\n",
    "#time.sleep(5)\n",
    "#print(pyautogui.position())\n",
    "pyautogui.click(x=419, y=125)\n",
    "escolha = \"Oswaldo Montenegro - Bandolins\"\n",
    "pyperclip.copy(escolha)\n",
    "pyautogui.hotkey(\"ctrl\", \"v\")\n",
    "pyautogui.press(\"enter\")\n",
    "pyautogui.click(x=764, y=453)\n",
    "pyautogui.alert(\"Curta o som!\")"
   ]
  },
  {
   "cell_type": "code",
   "execution_count": null,
   "id": "f201884e",
   "metadata": {},
   "outputs": [],
   "source": []
  },
  {
   "cell_type": "code",
   "execution_count": null,
   "id": "dfe76279",
   "metadata": {},
   "outputs": [],
   "source": []
  }
 ],
 "metadata": {
  "kernelspec": {
   "display_name": "Python 3 (ipykernel)",
   "language": "python",
   "name": "python3"
  },
  "language_info": {
   "codemirror_mode": {
    "name": "ipython",
    "version": 3
   },
   "file_extension": ".py",
   "mimetype": "text/x-python",
   "name": "python",
   "nbconvert_exporter": "python",
   "pygments_lexer": "ipython3",
   "version": "3.9.12"
  }
 },
 "nbformat": 4,
 "nbformat_minor": 5
}
